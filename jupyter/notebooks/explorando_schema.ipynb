{
 "cells": [
  {
   "cell_type": "code",
   "execution_count": 1,
   "id": "49e4d62f-2cfa-4caa-b2a5-f25e49292644",
   "metadata": {},
   "outputs": [],
   "source": [
    "import pandas as pd\n",
    "import os\n",
    "import numpy as np"
   ]
  },
  {
   "cell_type": "code",
   "execution_count": 2,
   "id": "7ab488e1-53ee-4d80-8f77-65d3d06979b3",
   "metadata": {},
   "outputs": [],
   "source": [
    "local = os.getcwd()\n",
    "files = os.listdir('data')\n",
    "files = [it for it in files if '.csv' in it]\n",
    "data = pd.DataFrame()\n",
    "for it in files:\n",
    "    data = pd.concat([\n",
    "        data,\n",
    "        pd.read_csv(f'data/{it}', encoding='latin1', decimal=',', low_memory=False)\n",
    "    ], axis=0)"
   ]
  },
  {
   "cell_type": "code",
   "execution_count": 3,
   "id": "c94e9e91-6e3d-4dbd-9062-6133bb06b84c",
   "metadata": {},
   "outputs": [
    {
     "data": {
      "text/plain": [
       "(129173, 76)"
      ]
     },
     "execution_count": 3,
     "metadata": {},
     "output_type": "execute_result"
    }
   ],
   "source": [
    "data.shape"
   ]
  },
  {
   "cell_type": "code",
   "execution_count": 4,
   "id": "68200075-44be-48b2-8d86-1e5c86123053",
   "metadata": {},
   "outputs": [],
   "source": [
    "to_float = [\n",
    "    'TP_NOT', 'SG_UF_NOT', 'CS_GESTANT', 'CS_RACA', 'CS_ESCOL_N', \n",
    "    'SG_UF', 'ID_PAIS', 'NDUPLIC_N', 'CS_FLXRET', 'FLXRECEBI', \n",
    "    'MIGRADO_W', 'FEBRE', 'FRAQUEZA', 'EDEMA', 'EMAGRA', \n",
    "    'TOSSE', 'PALIDEZ', 'BACO', 'INFECCIOSO', 'FEN_HEMORR',\n",
    "    'FIGADO','ICTERICIA','OUTROS', 'HIV','DIAG_PAR_N',\n",
    "    'IFI','OUTRO','ENTRADA', 'DROGA', 'FALENCIA',\n",
    "    'CLASSI_FIN','CRITERIO','TPAUTOCTO', 'COPAISINF', 'DOENCA_TRA',\n",
    "    'EVOLUCAO', 'CO_PAIS_1', 'CO_PAIS_2', 'CO_PAIS_3', 'PESO','DOSE','AMPOLAS'\n",
    "]\n",
    "to_str = [\n",
    "    'ID_AGRAVO', 'SEM_NOT', 'NU_ANO', 'ID_MUNICIP', 'ID_REGIONA', \n",
    "    'SEM_PRI', 'NU_IDADE_N', 'CS_SEXO', 'ID_MN_RESI', 'ID_RG_RESI', \n",
    "    'ID_OCUPA_N', 'OUTROS_ESP', 'COUFINF', 'COMUNINF','DS_MUN_1', \n",
    "    'DS_MUN_2', 'DS_MUN_3', 'CO_UF_1', 'CO_UF_2', 'CO_UF_3',\n",
    "    'DS_TRANS_1', 'DS_TRANS_2', 'DS_TRANS_3',\n",
    "]\n",
    "to_date = ['DT_NOTIFIC', 'DT_SIN_PRI', 'DT_NASC', 'DT_INVEST', 'TRATAMENTO', 'DT_OBITO', 'DT_ENCERRA', 'DT_DESLC1', 'DT_DESLC2', 'DT_DESLC3']\n",
    "\n",
    "data[to_float] = data[to_float].astype(float)\n",
    "data[to_str] = data[to_str].astype(str)\n",
    "data[to_date] = data[to_date].astype(str)\n",
    "data = data[to_float + to_str + to_date]\n",
    "data.to_parquet('data/data.parquet', index=False)\n",
    "\n",
    "import pyarrow.parquet as pq\n",
    "p = pq.read_table('data/data.parquet')\n",
    "schema = p.schema\n",
    "schema = [dict(zip(['name', 'type'], it)) for it in [it.split(': ') for it in str(schema).split('\\n')][:75]]"
   ]
  },
  {
   "cell_type": "code",
   "execution_count": 5,
   "id": "4ddc44f9-3510-4c5c-9241-89d991679bc0",
   "metadata": {},
   "outputs": [],
   "source": [
    "_ = [it.update({'mode': 'NULLABLE'}) for it in schema]"
   ]
  },
  {
   "cell_type": "code",
   "execution_count": 14,
   "id": "c43f8d99-76e7-4422-8622-bdb6291fec8c",
   "metadata": {},
   "outputs": [],
   "source": []
  },
  {
   "cell_type": "code",
   "execution_count": 15,
   "id": "2fd1e855-d1c8-47b4-952c-db35ed65c727",
   "metadata": {},
   "outputs": [
    {
     "data": {
      "text/plain": [
       "[{'name': 'TP_NOT', 'type': 'FLOAT64', 'mode': 'NULLABLE'},\n",
       " {'name': 'SG_UF_NOT', 'type': 'FLOAT64', 'mode': 'NULLABLE'},\n",
       " {'name': 'CS_GESTANT', 'type': 'FLOAT64', 'mode': 'NULLABLE'},\n",
       " {'name': 'CS_RACA', 'type': 'FLOAT64', 'mode': 'NULLABLE'},\n",
       " {'name': 'CS_ESCOL_N', 'type': 'FLOAT64', 'mode': 'NULLABLE'},\n",
       " {'name': 'SG_UF', 'type': 'FLOAT64', 'mode': 'NULLABLE'},\n",
       " {'name': 'ID_PAIS', 'type': 'FLOAT64', 'mode': 'NULLABLE'},\n",
       " {'name': 'NDUPLIC_N', 'type': 'FLOAT64', 'mode': 'NULLABLE'},\n",
       " {'name': 'CS_FLXRET', 'type': 'FLOAT64', 'mode': 'NULLABLE'},\n",
       " {'name': 'FLXRECEBI', 'type': 'FLOAT64', 'mode': 'NULLABLE'},\n",
       " {'name': 'MIGRADO_W', 'type': 'FLOAT64', 'mode': 'NULLABLE'},\n",
       " {'name': 'FEBRE', 'type': 'FLOAT64', 'mode': 'NULLABLE'},\n",
       " {'name': 'FRAQUEZA', 'type': 'FLOAT64', 'mode': 'NULLABLE'},\n",
       " {'name': 'EDEMA', 'type': 'FLOAT64', 'mode': 'NULLABLE'},\n",
       " {'name': 'EMAGRA', 'type': 'FLOAT64', 'mode': 'NULLABLE'},\n",
       " {'name': 'TOSSE', 'type': 'FLOAT64', 'mode': 'NULLABLE'},\n",
       " {'name': 'PALIDEZ', 'type': 'FLOAT64', 'mode': 'NULLABLE'},\n",
       " {'name': 'BACO', 'type': 'FLOAT64', 'mode': 'NULLABLE'},\n",
       " {'name': 'INFECCIOSO', 'type': 'FLOAT64', 'mode': 'NULLABLE'},\n",
       " {'name': 'FEN_HEMORR', 'type': 'FLOAT64', 'mode': 'NULLABLE'},\n",
       " {'name': 'FIGADO', 'type': 'FLOAT64', 'mode': 'NULLABLE'},\n",
       " {'name': 'ICTERICIA', 'type': 'FLOAT64', 'mode': 'NULLABLE'},\n",
       " {'name': 'OUTROS', 'type': 'FLOAT64', 'mode': 'NULLABLE'},\n",
       " {'name': 'HIV', 'type': 'FLOAT64', 'mode': 'NULLABLE'},\n",
       " {'name': 'DIAG_PAR_N', 'type': 'FLOAT64', 'mode': 'NULLABLE'},\n",
       " {'name': 'IFI', 'type': 'FLOAT64', 'mode': 'NULLABLE'},\n",
       " {'name': 'OUTRO', 'type': 'FLOAT64', 'mode': 'NULLABLE'},\n",
       " {'name': 'ENTRADA', 'type': 'FLOAT64', 'mode': 'NULLABLE'},\n",
       " {'name': 'DROGA', 'type': 'FLOAT64', 'mode': 'NULLABLE'},\n",
       " {'name': 'FALENCIA', 'type': 'FLOAT64', 'mode': 'NULLABLE'},\n",
       " {'name': 'CLASSI_FIN', 'type': 'FLOAT64', 'mode': 'NULLABLE'},\n",
       " {'name': 'CRITERIO', 'type': 'FLOAT64', 'mode': 'NULLABLE'},\n",
       " {'name': 'TPAUTOCTO', 'type': 'FLOAT64', 'mode': 'NULLABLE'},\n",
       " {'name': 'COPAISINF', 'type': 'FLOAT64', 'mode': 'NULLABLE'},\n",
       " {'name': 'DOENCA_TRA', 'type': 'FLOAT64', 'mode': 'NULLABLE'},\n",
       " {'name': 'EVOLUCAO', 'type': 'FLOAT64', 'mode': 'NULLABLE'},\n",
       " {'name': 'CO_PAIS_1', 'type': 'FLOAT64', 'mode': 'NULLABLE'},\n",
       " {'name': 'CO_PAIS_2', 'type': 'FLOAT64', 'mode': 'NULLABLE'},\n",
       " {'name': 'CO_PAIS_3', 'type': 'FLOAT64', 'mode': 'NULLABLE'},\n",
       " {'name': 'PESO', 'type': 'FLOAT64', 'mode': 'NULLABLE'},\n",
       " {'name': 'DOSE', 'type': 'FLOAT64', 'mode': 'NULLABLE'},\n",
       " {'name': 'AMPOLAS', 'type': 'FLOAT64', 'mode': 'NULLABLE'},\n",
       " {'name': 'ID_AGRAVO', 'type': 'string', 'mode': 'NULLABLE'},\n",
       " {'name': 'SEM_NOT', 'type': 'string', 'mode': 'NULLABLE'},\n",
       " {'name': 'NU_ANO', 'type': 'string', 'mode': 'NULLABLE'},\n",
       " {'name': 'ID_MUNICIP', 'type': 'string', 'mode': 'NULLABLE'},\n",
       " {'name': 'ID_REGIONA', 'type': 'string', 'mode': 'NULLABLE'},\n",
       " {'name': 'SEM_PRI', 'type': 'string', 'mode': 'NULLABLE'},\n",
       " {'name': 'NU_IDADE_N', 'type': 'string', 'mode': 'NULLABLE'},\n",
       " {'name': 'CS_SEXO', 'type': 'string', 'mode': 'NULLABLE'},\n",
       " {'name': 'ID_MN_RESI', 'type': 'string', 'mode': 'NULLABLE'},\n",
       " {'name': 'ID_RG_RESI', 'type': 'string', 'mode': 'NULLABLE'},\n",
       " {'name': 'ID_OCUPA_N', 'type': 'string', 'mode': 'NULLABLE'},\n",
       " {'name': 'OUTROS_ESP', 'type': 'string', 'mode': 'NULLABLE'},\n",
       " {'name': 'COUFINF', 'type': 'string', 'mode': 'NULLABLE'},\n",
       " {'name': 'COMUNINF', 'type': 'string', 'mode': 'NULLABLE'},\n",
       " {'name': 'DS_MUN_1', 'type': 'string', 'mode': 'NULLABLE'},\n",
       " {'name': 'DS_MUN_2', 'type': 'string', 'mode': 'NULLABLE'},\n",
       " {'name': 'DS_MUN_3', 'type': 'string', 'mode': 'NULLABLE'},\n",
       " {'name': 'CO_UF_1', 'type': 'string', 'mode': 'NULLABLE'},\n",
       " {'name': 'CO_UF_2', 'type': 'string', 'mode': 'NULLABLE'},\n",
       " {'name': 'CO_UF_3', 'type': 'string', 'mode': 'NULLABLE'},\n",
       " {'name': 'DS_TRANS_1', 'type': 'string', 'mode': 'NULLABLE'},\n",
       " {'name': 'DS_TRANS_2', 'type': 'string', 'mode': 'NULLABLE'},\n",
       " {'name': 'DS_TRANS_3', 'type': 'string', 'mode': 'NULLABLE'},\n",
       " {'name': 'DT_NOTIFIC', 'type': 'string', 'mode': 'NULLABLE'},\n",
       " {'name': 'DT_SIN_PRI', 'type': 'string', 'mode': 'NULLABLE'},\n",
       " {'name': 'DT_NASC', 'type': 'string', 'mode': 'NULLABLE'},\n",
       " {'name': 'DT_INVEST', 'type': 'string', 'mode': 'NULLABLE'},\n",
       " {'name': 'TRATAMENTO', 'type': 'string', 'mode': 'NULLABLE'},\n",
       " {'name': 'DT_OBITO', 'type': 'string', 'mode': 'NULLABLE'},\n",
       " {'name': 'DT_ENCERRA', 'type': 'string', 'mode': 'NULLABLE'},\n",
       " {'name': 'DT_DESLC1', 'type': 'string', 'mode': 'NULLABLE'},\n",
       " {'name': 'DT_DESLC2', 'type': 'string', 'mode': 'NULLABLE'},\n",
       " {'name': 'DT_DESLC3', 'type': 'string', 'mode': 'NULLABLE'}]"
      ]
     },
     "execution_count": 15,
     "metadata": {},
     "output_type": "execute_result"
    }
   ],
   "source": [
    "schema"
   ]
  },
  {
   "cell_type": "code",
   "execution_count": 19,
   "id": "4702746e-87c2-4b58-945b-179cd2da762f",
   "metadata": {},
   "outputs": [
    {
     "ename": "TypeError",
     "evalue": "the JSON object must be str, bytes or bytearray, not list",
     "output_type": "error",
     "traceback": [
      "\u001b[0;31m---------------------------------------------------------------------------\u001b[0m",
      "\u001b[0;31mTypeError\u001b[0m                                 Traceback (most recent call last)",
      "Input \u001b[0;32mIn [19]\u001b[0m, in \u001b[0;36m<cell line: 2>\u001b[0;34m()\u001b[0m\n\u001b[1;32m      1\u001b[0m \u001b[38;5;28;01mimport\u001b[39;00m \u001b[38;5;21;01mjson\u001b[39;00m\n\u001b[0;32m----> 2\u001b[0m \u001b[43mjson\u001b[49m\u001b[38;5;241;43m.\u001b[39;49m\u001b[43mloads\u001b[49m\u001b[43m(\u001b[49m\u001b[43mschema\u001b[49m\u001b[43m)\u001b[49m\n",
      "File \u001b[0;32m/opt/conda/lib/python3.10/json/__init__.py:339\u001b[0m, in \u001b[0;36mloads\u001b[0;34m(s, cls, object_hook, parse_float, parse_int, parse_constant, object_pairs_hook, **kw)\u001b[0m\n\u001b[1;32m    337\u001b[0m \u001b[38;5;28;01melse\u001b[39;00m:\n\u001b[1;32m    338\u001b[0m     \u001b[38;5;28;01mif\u001b[39;00m \u001b[38;5;129;01mnot\u001b[39;00m \u001b[38;5;28misinstance\u001b[39m(s, (\u001b[38;5;28mbytes\u001b[39m, \u001b[38;5;28mbytearray\u001b[39m)):\n\u001b[0;32m--> 339\u001b[0m         \u001b[38;5;28;01mraise\u001b[39;00m \u001b[38;5;167;01mTypeError\u001b[39;00m(\u001b[38;5;124mf\u001b[39m\u001b[38;5;124m'\u001b[39m\u001b[38;5;124mthe JSON object must be str, bytes or bytearray, \u001b[39m\u001b[38;5;124m'\u001b[39m\n\u001b[1;32m    340\u001b[0m                         \u001b[38;5;124mf\u001b[39m\u001b[38;5;124m'\u001b[39m\u001b[38;5;124mnot \u001b[39m\u001b[38;5;132;01m{\u001b[39;00ms\u001b[38;5;241m.\u001b[39m\u001b[38;5;18m__class__\u001b[39m\u001b[38;5;241m.\u001b[39m\u001b[38;5;18m__name__\u001b[39m\u001b[38;5;132;01m}\u001b[39;00m\u001b[38;5;124m'\u001b[39m)\n\u001b[1;32m    341\u001b[0m     s \u001b[38;5;241m=\u001b[39m s\u001b[38;5;241m.\u001b[39mdecode(detect_encoding(s), \u001b[38;5;124m'\u001b[39m\u001b[38;5;124msurrogatepass\u001b[39m\u001b[38;5;124m'\u001b[39m)\n\u001b[1;32m    343\u001b[0m \u001b[38;5;28;01mif\u001b[39;00m (\u001b[38;5;28mcls\u001b[39m \u001b[38;5;129;01mis\u001b[39;00m \u001b[38;5;28;01mNone\u001b[39;00m \u001b[38;5;129;01mand\u001b[39;00m object_hook \u001b[38;5;129;01mis\u001b[39;00m \u001b[38;5;28;01mNone\u001b[39;00m \u001b[38;5;129;01mand\u001b[39;00m\n\u001b[1;32m    344\u001b[0m         parse_int \u001b[38;5;129;01mis\u001b[39;00m \u001b[38;5;28;01mNone\u001b[39;00m \u001b[38;5;129;01mand\u001b[39;00m parse_float \u001b[38;5;129;01mis\u001b[39;00m \u001b[38;5;28;01mNone\u001b[39;00m \u001b[38;5;129;01mand\u001b[39;00m\n\u001b[1;32m    345\u001b[0m         parse_constant \u001b[38;5;129;01mis\u001b[39;00m \u001b[38;5;28;01mNone\u001b[39;00m \u001b[38;5;129;01mand\u001b[39;00m object_pairs_hook \u001b[38;5;129;01mis\u001b[39;00m \u001b[38;5;28;01mNone\u001b[39;00m \u001b[38;5;129;01mand\u001b[39;00m \u001b[38;5;129;01mnot\u001b[39;00m kw):\n",
      "\u001b[0;31mTypeError\u001b[0m: the JSON object must be str, bytes or bytearray, not list"
     ]
    }
   ],
   "source": [
    "import json\n",
    "json.loads(schema)"
   ]
  },
  {
   "cell_type": "code",
   "execution_count": 74,
   "id": "a7b4b181-68f2-469d-8d89-678d965f03f7",
   "metadata": {},
   "outputs": [
    {
     "ename": "SyntaxError",
     "evalue": "invalid syntax (1914405471.py, line 1)",
     "output_type": "error",
     "traceback": [
      "\u001b[0;36m  Input \u001b[0;32mIn [74]\u001b[0;36m\u001b[0m\n\u001b[0;31m    [for it in [it.split(': ') for it in str(schema).split('\\n')][:75]]\u001b[0m\n\u001b[0m     ^\u001b[0m\n\u001b[0;31mSyntaxError\u001b[0m\u001b[0;31m:\u001b[0m invalid syntax\n"
     ]
    }
   ],
   "source": [
    "[for it in [it.split(': ') for it in str(schema).split('\\n')][:75]]"
   ]
  },
  {
   "cell_type": "code",
   "execution_count": null,
   "id": "85665171-22a5-43e0-bc3e-dd63195ea31b",
   "metadata": {},
   "outputs": [],
   "source": [
    "\"mode\": \"NULLABLE\"}"
   ]
  }
 ],
 "metadata": {
  "kernelspec": {
   "display_name": "Python 3 (ipykernel)",
   "language": "python",
   "name": "python3"
  },
  "language_info": {
   "codemirror_mode": {
    "name": "ipython",
    "version": 3
   },
   "file_extension": ".py",
   "mimetype": "text/x-python",
   "name": "python",
   "nbconvert_exporter": "python",
   "pygments_lexer": "ipython3",
   "version": "3.10.5"
  }
 },
 "nbformat": 4,
 "nbformat_minor": 5
}
