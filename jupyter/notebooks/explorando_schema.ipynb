{
 "cells": [
  {
   "cell_type": "code",
   "execution_count": 1,
   "id": "49e4d62f-2cfa-4caa-b2a5-f25e49292644",
   "metadata": {},
   "outputs": [],
   "source": [
    "import pandas as pd\n",
    "import os\n",
    "import numpy as np"
   ]
  },
  {
   "cell_type": "code",
   "execution_count": 10,
   "id": "7ab488e1-53ee-4d80-8f77-65d3d06979b3",
   "metadata": {},
   "outputs": [],
   "source": [
    "local = os.getcwd()\n",
    "files = os.listdir('data')\n",
    "files = [it for it in files if '.csv' in it]\n",
    "data = pd.DataFrame()\n",
    "for it in files:\n",
    "    data = pd.concat([\n",
    "        data,\n",
    "        pd.read_csv(f'data/{it}', encoding='latin1', decimal=',', low_memory=False)\n",
    "    ], axis=0)"
   ]
  },
  {
   "cell_type": "code",
   "execution_count": 11,
   "id": "c94e9e91-6e3d-4dbd-9062-6133bb06b84c",
   "metadata": {},
   "outputs": [
    {
     "data": {
      "text/plain": [
       "(129173, 76)"
      ]
     },
     "execution_count": 11,
     "metadata": {},
     "output_type": "execute_result"
    }
   ],
   "source": [
    "data.shape"
   ]
  },
  {
   "cell_type": "code",
   "execution_count": 12,
   "id": "68200075-44be-48b2-8d86-1e5c86123053",
   "metadata": {},
   "outputs": [],
   "source": [
    "to_float = [\n",
    "    'TP_NOT', 'SG_UF_NOT', 'CS_GESTANT', 'CS_RACA', 'CS_ESCOL_N', \n",
    "    'SG_UF', 'ID_PAIS', 'NDUPLIC_N', 'CS_FLXRET', 'FLXRECEBI', \n",
    "    'MIGRADO_W', 'FEBRE', 'FRAQUEZA', 'EDEMA', 'EMAGRA', \n",
    "    'TOSSE', 'PALIDEZ', 'BACO', 'INFECCIOSO', 'FEN_HEMORR',\n",
    "    'FIGADO','ICTERICIA','OUTROS', 'HIV','DIAG_PAR_N',\n",
    "    'IFI','OUTRO','ENTRADA', 'DROGA', 'FALENCIA',\n",
    "    'CLASSI_FIN','CRITERIO','TPAUTOCTO', 'COPAISINF', 'DOENCA_TRA',\n",
    "    'EVOLUCAO', 'CO_PAIS_1', 'CO_PAIS_2', 'CO_PAIS_3', 'PESO','DOSE','AMPOLAS'\n",
    "]\n",
    "to_str = [\n",
    "    'ID_AGRAVO', 'SEM_NOT', 'NU_ANO', 'ID_MUNICIP', 'ID_REGIONA', \n",
    "    'SEM_PRI', 'NU_IDADE_N', 'CS_SEXO', 'ID_MN_RESI', 'ID_RG_RESI', \n",
    "    'ID_OCUPA_N', 'OUTROS_ESP', 'COUFINF', 'COMUNINF','DS_MUN_1', \n",
    "    'DS_MUN_2', 'DS_MUN_3', 'CO_UF_1', 'CO_UF_2', 'CO_UF_3',\n",
    "    'DS_TRANS_1', 'DS_TRANS_2', 'DS_TRANS_3',\n",
    "]\n",
    "to_date = ['DT_NOTIFIC', 'DT_SIN_PRI', 'DT_NASC', 'DT_INVEST', 'TRATAMENTO', 'DT_OBITO', 'DT_ENCERRA', 'DT_DESLC1', 'DT_DESLC2', 'DT_DESLC3']\n",
    "\n",
    "data[to_float] = data[to_float].astype(float)\n",
    "data[to_str] = data[to_str].astype(str)\n",
    "data[to_date] = data[to_date].astype(str)\n",
    "data = data[to_float + to_str + to_date]\n",
    "data.to_parquet('data/data.parquet', index=False)\n",
    "\n",
    "import pyarrow.parquet as pq\n",
    "p = pq.read_table('data/data.parquet')\n",
    "schema = p.schema\n",
    "schema = [dict(zip(['name', 'type'], it)) for it in [it.split(': ') for it in str(schema).split('\\n')][:75]]"
   ]
  },
  {
   "cell_type": "code",
   "execution_count": 13,
   "id": "4ddc44f9-3510-4c5c-9241-89d991679bc0",
   "metadata": {},
   "outputs": [],
   "source": [
    "_ = [it.update({'mode': 'NULLABLE'}) for it in schema]"
   ]
  },
  {
   "cell_type": "code",
   "execution_count": 16,
   "id": "4702746e-87c2-4b58-945b-179cd2da762f",
   "metadata": {},
   "outputs": [
    {
     "data": {
      "text/plain": [
       "'[{\"name\": \"TP_NOT\", \"type\": \"double\", \"mode\": \"NULLABLE\"}, {\"name\": \"SG_UF_NOT\", \"type\": \"double\", \"mode\": \"NULLABLE\"}, {\"name\": \"CS_GESTANT\", \"type\": \"double\", \"mode\": \"NULLABLE\"}, {\"name\": \"CS_RACA\", \"type\": \"double\", \"mode\": \"NULLABLE\"}, {\"name\": \"CS_ESCOL_N\", \"type\": \"double\", \"mode\": \"NULLABLE\"}, {\"name\": \"SG_UF\", \"type\": \"double\", \"mode\": \"NULLABLE\"}, {\"name\": \"ID_PAIS\", \"type\": \"double\", \"mode\": \"NULLABLE\"}, {\"name\": \"NDUPLIC_N\", \"type\": \"double\", \"mode\": \"NULLABLE\"}, {\"name\": \"CS_FLXRET\", \"type\": \"double\", \"mode\": \"NULLABLE\"}, {\"name\": \"FLXRECEBI\", \"type\": \"double\", \"mode\": \"NULLABLE\"}, {\"name\": \"MIGRADO_W\", \"type\": \"double\", \"mode\": \"NULLABLE\"}, {\"name\": \"FEBRE\", \"type\": \"double\", \"mode\": \"NULLABLE\"}, {\"name\": \"FRAQUEZA\", \"type\": \"double\", \"mode\": \"NULLABLE\"}, {\"name\": \"EDEMA\", \"type\": \"double\", \"mode\": \"NULLABLE\"}, {\"name\": \"EMAGRA\", \"type\": \"double\", \"mode\": \"NULLABLE\"}, {\"name\": \"TOSSE\", \"type\": \"double\", \"mode\": \"NULLABLE\"}, {\"name\": \"PALIDEZ\", \"type\": \"double\", \"mode\": \"NULLABLE\"}, {\"name\": \"BACO\", \"type\": \"double\", \"mode\": \"NULLABLE\"}, {\"name\": \"INFECCIOSO\", \"type\": \"double\", \"mode\": \"NULLABLE\"}, {\"name\": \"FEN_HEMORR\", \"type\": \"double\", \"mode\": \"NULLABLE\"}, {\"name\": \"FIGADO\", \"type\": \"double\", \"mode\": \"NULLABLE\"}, {\"name\": \"ICTERICIA\", \"type\": \"double\", \"mode\": \"NULLABLE\"}, {\"name\": \"OUTROS\", \"type\": \"double\", \"mode\": \"NULLABLE\"}, {\"name\": \"HIV\", \"type\": \"double\", \"mode\": \"NULLABLE\"}, {\"name\": \"DIAG_PAR_N\", \"type\": \"double\", \"mode\": \"NULLABLE\"}, {\"name\": \"IFI\", \"type\": \"double\", \"mode\": \"NULLABLE\"}, {\"name\": \"OUTRO\", \"type\": \"double\", \"mode\": \"NULLABLE\"}, {\"name\": \"ENTRADA\", \"type\": \"double\", \"mode\": \"NULLABLE\"}, {\"name\": \"DROGA\", \"type\": \"double\", \"mode\": \"NULLABLE\"}, {\"name\": \"FALENCIA\", \"type\": \"double\", \"mode\": \"NULLABLE\"}, {\"name\": \"CLASSI_FIN\", \"type\": \"double\", \"mode\": \"NULLABLE\"}, {\"name\": \"CRITERIO\", \"type\": \"double\", \"mode\": \"NULLABLE\"}, {\"name\": \"TPAUTOCTO\", \"type\": \"double\", \"mode\": \"NULLABLE\"}, {\"name\": \"COPAISINF\", \"type\": \"double\", \"mode\": \"NULLABLE\"}, {\"name\": \"DOENCA_TRA\", \"type\": \"double\", \"mode\": \"NULLABLE\"}, {\"name\": \"EVOLUCAO\", \"type\": \"double\", \"mode\": \"NULLABLE\"}, {\"name\": \"CO_PAIS_1\", \"type\": \"double\", \"mode\": \"NULLABLE\"}, {\"name\": \"CO_PAIS_2\", \"type\": \"double\", \"mode\": \"NULLABLE\"}, {\"name\": \"CO_PAIS_3\", \"type\": \"double\", \"mode\": \"NULLABLE\"}, {\"name\": \"PESO\", \"type\": \"double\", \"mode\": \"NULLABLE\"}, {\"name\": \"DOSE\", \"type\": \"double\", \"mode\": \"NULLABLE\"}, {\"name\": \"AMPOLAS\", \"type\": \"double\", \"mode\": \"NULLABLE\"}, {\"name\": \"ID_AGRAVO\", \"type\": \"string\", \"mode\": \"NULLABLE\"}, {\"name\": \"SEM_NOT\", \"type\": \"string\", \"mode\": \"NULLABLE\"}, {\"name\": \"NU_ANO\", \"type\": \"string\", \"mode\": \"NULLABLE\"}, {\"name\": \"ID_MUNICIP\", \"type\": \"string\", \"mode\": \"NULLABLE\"}, {\"name\": \"ID_REGIONA\", \"type\": \"string\", \"mode\": \"NULLABLE\"}, {\"name\": \"SEM_PRI\", \"type\": \"string\", \"mode\": \"NULLABLE\"}, {\"name\": \"NU_IDADE_N\", \"type\": \"string\", \"mode\": \"NULLABLE\"}, {\"name\": \"CS_SEXO\", \"type\": \"string\", \"mode\": \"NULLABLE\"}, {\"name\": \"ID_MN_RESI\", \"type\": \"string\", \"mode\": \"NULLABLE\"}, {\"name\": \"ID_RG_RESI\", \"type\": \"string\", \"mode\": \"NULLABLE\"}, {\"name\": \"ID_OCUPA_N\", \"type\": \"string\", \"mode\": \"NULLABLE\"}, {\"name\": \"OUTROS_ESP\", \"type\": \"string\", \"mode\": \"NULLABLE\"}, {\"name\": \"COUFINF\", \"type\": \"string\", \"mode\": \"NULLABLE\"}, {\"name\": \"COMUNINF\", \"type\": \"string\", \"mode\": \"NULLABLE\"}, {\"name\": \"DS_MUN_1\", \"type\": \"string\", \"mode\": \"NULLABLE\"}, {\"name\": \"DS_MUN_2\", \"type\": \"string\", \"mode\": \"NULLABLE\"}, {\"name\": \"DS_MUN_3\", \"type\": \"string\", \"mode\": \"NULLABLE\"}, {\"name\": \"CO_UF_1\", \"type\": \"string\", \"mode\": \"NULLABLE\"}, {\"name\": \"CO_UF_2\", \"type\": \"string\", \"mode\": \"NULLABLE\"}, {\"name\": \"CO_UF_3\", \"type\": \"string\", \"mode\": \"NULLABLE\"}, {\"name\": \"DS_TRANS_1\", \"type\": \"string\", \"mode\": \"NULLABLE\"}, {\"name\": \"DS_TRANS_2\", \"type\": \"string\", \"mode\": \"NULLABLE\"}, {\"name\": \"DS_TRANS_3\", \"type\": \"string\", \"mode\": \"NULLABLE\"}, {\"name\": \"DT_NOTIFIC\", \"type\": \"string\", \"mode\": \"NULLABLE\"}, {\"name\": \"DT_SIN_PRI\", \"type\": \"string\", \"mode\": \"NULLABLE\"}, {\"name\": \"DT_NASC\", \"type\": \"string\", \"mode\": \"NULLABLE\"}, {\"name\": \"DT_INVEST\", \"type\": \"string\", \"mode\": \"NULLABLE\"}, {\"name\": \"TRATAMENTO\", \"type\": \"string\", \"mode\": \"NULLABLE\"}, {\"name\": \"DT_OBITO\", \"type\": \"string\", \"mode\": \"NULLABLE\"}, {\"name\": \"DT_ENCERRA\", \"type\": \"string\", \"mode\": \"NULLABLE\"}, {\"name\": \"DT_DESLC1\", \"type\": \"string\", \"mode\": \"NULLABLE\"}, {\"name\": \"DT_DESLC2\", \"type\": \"string\", \"mode\": \"NULLABLE\"}, {\"name\": \"DT_DESLC3\", \"type\": \"string\", \"mode\": \"NULLABLE\"}]'"
      ]
     },
     "execution_count": 16,
     "metadata": {},
     "output_type": "execute_result"
    }
   ],
   "source": []
  },
  {
   "cell_type": "code",
   "execution_count": 74,
   "id": "a7b4b181-68f2-469d-8d89-678d965f03f7",
   "metadata": {},
   "outputs": [
    {
     "ename": "SyntaxError",
     "evalue": "invalid syntax (1914405471.py, line 1)",
     "output_type": "error",
     "traceback": [
      "\u001b[0;36m  Input \u001b[0;32mIn [74]\u001b[0;36m\u001b[0m\n\u001b[0;31m    [for it in [it.split(': ') for it in str(schema).split('\\n')][:75]]\u001b[0m\n\u001b[0m     ^\u001b[0m\n\u001b[0;31mSyntaxError\u001b[0m\u001b[0;31m:\u001b[0m invalid syntax\n"
     ]
    }
   ],
   "source": [
    "[for it in [it.split(': ') for it in str(schema).split('\\n')][:75]]"
   ]
  },
  {
   "cell_type": "code",
   "execution_count": null,
   "id": "85665171-22a5-43e0-bc3e-dd63195ea31b",
   "metadata": {},
   "outputs": [],
   "source": [
    "\"mode\": \"NULLABLE\"}"
   ]
  }
 ],
 "metadata": {
  "kernelspec": {
   "display_name": "Python 3 (ipykernel)",
   "language": "python",
   "name": "python3"
  },
  "language_info": {
   "codemirror_mode": {
    "name": "ipython",
    "version": 3
   },
   "file_extension": ".py",
   "mimetype": "text/x-python",
   "name": "python",
   "nbconvert_exporter": "python",
   "pygments_lexer": "ipython3",
   "version": "3.10.5"
  }
 },
 "nbformat": 4,
 "nbformat_minor": 5
}
